{
 "cells": [
  {
   "cell_type": "markdown",
   "metadata": {},
   "source": [
    "# Lab | Data Structures "
   ]
  },
  {
   "cell_type": "markdown",
   "metadata": {},
   "source": [
    "## Exercise 1: Working with Lists"
   ]
  },
  {
   "cell_type": "markdown",
   "metadata": {},
   "source": [
    "Imagine you are building a program for a teacher who wants to track the progress of their students throughout the semester. The teacher wants to input the grades of each student one by one, and get a summary of their performance. There are in total 5 students. You are tasked with building the program that will allow the teacher to do this easily.\n",
    "\n",
    "The program will prompt the teacher to enter the grades of each student. Once the teacher has entered all the grades, the program will calculate the total sum of the grades and display it on the screen. Then, the program will create a new list by selecting only the grades of the first, third, and fifth students entered by the teacher, and sort them in ascending order.\n",
    "\n",
    "Finally, the program will print out the new list, along with its length and the number of occurrences of the score 5 in the list. This will give the teacher a good overview of the performance of the selected students, and help them identify any potential issues early on."
   ]
  },
  {
   "cell_type": "markdown",
   "metadata": {},
   "source": [
    "*Hint:*\n",
    "- You can use the input() function to ask the user to enter their information.\n",
    "- Look for list methods to perform the tasks. \n",
    "- Remember, it is possible to get a part of the sequence using:\n",
    "\n",
    "    ```python\n",
    "    sequence[x:y:z]\n",
    "    ```\n",
    "    where x, y, z are integers.\n",
    "\n",
    "    The above returns a new sequence with the following characteristics:\n",
    "\n",
    "    - A sequence with the same type as the original (a slice of a list is a list, a slice of a tuple is a tuple, and a slice of a string is a string).\n",
    "    - A sequence with elements from `sequence [x]` to `sequence [y-1]` (does not include a sequence [y]). By skipping `z` elements each time, it can be omitted if ` z = 1`.\n"
   ]
  },
  {
   "cell_type": "markdown",
   "metadata": {},
   "source": [
    "*Recommended External Resources:*\n",
    "- *[Python Lists](https://www.w3schools.com/python/python_lists.asp)*\n",
    "- *[Python List Methods](https://www.w3schools.com/python/python_ref_list.asp)*\n",
    "- *[Python Built-in Functions](https://docs.python.org/3/library/functions.html)*\n"
   ]
  },
  {
   "cell_type": "code",
   "execution_count": null,
   "metadata": {},
   "outputs": [
    {
     "name": "stdout",
     "output_type": "stream",
     "text": [
      "[89.0, 98.0, 76.0, 99.0, 67.0]\n"
     ]
    }
   ],
   "source": [
    "# Your code here\n",
    "\n",
    "# We're starting by asking the teacher inputs for his students grades\n",
    "grades = []\n",
    "for i in range(5):\n",
    "    grade = float(input(\"Enter student grade: \"))\n",
    "    grades.append(grade)\n",
    "\n",
    "# Then we're calculating the total of the grades\n",
    "total_grades = sum(grades)\n",
    "print(grades)\n",
    "print(total_grades)\n",
    "\n",
    "# Now we want to select only the grades of first, third and fifth students\n",
    "new_list = []\n",
    "for i in range(len(grades)):\n",
    "    if i % 2 == 0:  # This condition checks for even indices (0, 2, 4)\n",
    "        new_list.append(grades[i])\n",
    "        new_list.sort()  # Sorting the new list in ascending order\n",
    "\n",
    "print(new_list)\n",
    "print(len(new_list))\n",
    "\n",
    "occurences = 0\n",
    "for grade in new_list:\n",
    "    if grade == 5:\n",
    "        occurences += 1\n",
    "\n",
    "print(occurences)"
   ]
  },
  {
   "cell_type": "markdown",
   "metadata": {},
   "source": [
    "## Exercise 2: Tuples"
   ]
  },
  {
   "cell_type": "markdown",
   "metadata": {},
   "source": [
    "Imagine you're running a fruit stand and want to keep track of your inventory. Write a Python program that does the following:\n",
    "\n",
    "- Initializes a tuple with 5 different types of fruit.\n",
    "- Outputs the first and last elements of the tuple, so you can see the full range of fruits the store offers.\n",
    "- Replaces the second element of the tuple with a new fruit that the store has recently received, and prints the updated tuple so you can see the changes.\n",
    "- Concatenates a new tuple containing 2 additional fruits to the original tuple, so you can add them to the store inventory, and prints the resulting tuple to see the updated inventory.\n",
    "- Splits the resulting tuple into 2 tuples of 3 elements each (the first tuple contains the first 3 elements, and the second tuple contains the last 3 elements), so you can organize the inventory more effectively.\n",
    "- Combines the 2 tuples from the previous step with the original tuple into a new tuple, and prints the resulting tuple and its length, so you can see the final inventory after all the changes."
   ]
  },
  {
   "cell_type": "markdown",
   "metadata": {},
   "source": [
    "*Recommended External Resources: [Python Tuples Examples and Methods](https://www.w3schools.com/python/python_tuples.asp)*\n",
    "\n"
   ]
  },
  {
   "cell_type": "code",
   "execution_count": null,
   "metadata": {},
   "outputs": [
    {
     "name": "stdout",
     "output_type": "stream",
     "text": [
      "apple\n",
      "kiwi\n",
      "('apple', 'orange', 'ananas', 'watermelon', 'kiwi', 'grape', 'cherry')\n",
      "('apple', 'orange', 'ananas', 'watermelon', 'kiwi', 'apple', 'orange', 'ananas', 'kiwi', 'grape', 'cherry')\n"
     ]
    }
   ],
   "source": [
    "# Your code here\n",
    "\n",
    "# We're starting by initializing a tuple with some fruits\n",
    "fruits = (\"apple\", \"banana\", \"ananas\", \"watermelon\", \"kiwi\")\n",
    "\n",
    "# We're now outputting the first and last fruits in the tuple to see the full range\n",
    "print(fruits[0])      # First fruit\n",
    "print(fruits[-1])     # Last fruit\n",
    "\n",
    "# Now we want to replace the second element, so we need to convert the tuple to a list first\n",
    "fruits_list = list(fruits)\n",
    "fruits_list[1] = \"orange\"  # Replacing the second element\n",
    "updated_fruits = tuple(fruits_list)  # Converting back to tuple\n",
    "new_fruits = updated_fruits + (\"grape\", \"cherry\")  # Adding 2 new fruits to the original tuple\n",
    "print(new_fruits)\n",
    "\n",
    "# We now want to splits the tuple into two different tuples of 3 elements each\n",
    "tuple1 = new_fruits[:3]  # First three elements\n",
    "tuple2 = new_fruits[4:]  # Next three elements\n",
    "\n",
    "# Finally, we combine both tuples with the original tuple\n",
    "combined_tuple = updated_fruits + tuple1 + tuple2\n",
    "print(combined_tuple)\n",
    "\n"
   ]
  },
  {
   "cell_type": "markdown",
   "metadata": {},
   "source": [
    "## Exercise 3: Sets"
   ]
  },
  {
   "cell_type": "markdown",
   "metadata": {},
   "source": [
    "Imagine you are a data analyst working for a literature museum. Your manager has given you two poems to analyze, and she wants you to write a Python program to extract useful information from them.\n",
    "\n",
    "Your program should:\n",
    "\n",
    "- Create two sets, one for each poem, containing all unique words in both poems (ignoring case and punctuation).\n",
    "- Print the number of unique words in each set.\n",
    "- Identify and print the unique words present in the first poem but not in the second one.\n",
    "- Identify and print the unique words present in the second poem but not in the first one.\n",
    "- Identify and print the unique words present in both poems and print it in alphabetical order."
   ]
  },
  {
   "cell_type": "markdown",
   "metadata": {},
   "source": [
    "*Recommended External Resources:*\n",
    "- *[Python Sets](https://www.w3schools.com/python/python_sets.asp)* \n",
    "- *[Python Set Methods](https://www.w3schools.com/python/python_ref_set.asp)*\n",
    "- *[Python String Methods](https://www.w3schools.com/python/python_ref_string.asp)*\n"
   ]
  },
  {
   "cell_type": "code",
   "execution_count": 1,
   "metadata": {},
   "outputs": [],
   "source": [
    "poem = \"\"\"Some say the world will end in fire,\n",
    "Some say in ice.\n",
    "From what I’ve tasted of desire\n",
    "I hold with those who favor fire.\n",
    "But if it had to perish twice,\n",
    "I think I know enough of hate\n",
    "To say that for destruction ice\n",
    "Is also great\n",
    "And would suffice.\"\"\"\n",
    "\n",
    "new_poem = \"\"\"Some say life is but a dream,\n",
    "Some say it's a test.\n",
    "From what I've seen and what I deem,\n",
    "I side with those who see it as a quest.\n",
    "\n",
    "But if it had to end today,\n",
    "I think I know enough of love,\n",
    "To say that though it fades away,\n",
    "It's still what we are made of.\"\"\""
   ]
  },
  {
   "cell_type": "code",
   "execution_count": 2,
   "metadata": {},
   "outputs": [
    {
     "name": "stdout",
     "output_type": "stream",
     "text": [
      "The number of unique words in the first poem is: 41\n",
      "The number of unique words in the second poem is: 42\n",
      "Words unique to the first poem: {'ice', 'would', 'fire', 'desire', 'will', 'the', 'destruction', 'hold', 'hate', 'i’ve', 'in', 'tasted', 'great', 'favor', 'for', 'suffice', 'twice', 'perish', 'also', 'world'}\n",
      "Words unique to the second poem: {'a', 'away', 'side', 'love', 'we', 'test', \"it's\", 'deem', 'quest', 'fades', 'life', 'made', 'today', 'though', 'see', \"i've\", 'seen', 'dream', 'still', 'as', 'are'}\n",
      "Words common to both poems: {'some', 'but', 'what', 'and', 'of', 'know', 'i', 'who', 'think', 'if', 'from', 'say', 'is', 'those', 'it', 'with', 'end', 'had', 'that', 'enough', 'to'}\n"
     ]
    }
   ],
   "source": [
    "# Your code here\n",
    "\n",
    "# We want to create two sets to store each poem's unique words\n",
    "set_poem = set()\n",
    "set_new_poem = set()\n",
    "\n",
    "# We now split each poem into words and add them to their respective sets\n",
    "for word in poem.split():\n",
    "    set_poem.add(word.strip(\".,!?;\\\"'\").lower())\n",
    "\n",
    "for word in new_poem.split():\n",
    "    set_new_poem.add(word.strip(\".,!?;\\\"'\").lower())\n",
    "\n",
    "# print(\"Unique words in the first poem:\", set_poem)\n",
    "# print(\"Unique words in the second poem:\", set_new_poem)\n",
    "\n",
    "# We are now printing the number of unique words in each poem\n",
    "print(\"The number of unique words in the first poem is:\", len(set_poem))\n",
    "print(\"The number of unique words in the second poem is:\", len(set_new_poem))\n",
    "\n",
    "# We want to find unique words that are in the first poem but not in the second\n",
    "unique_to_first = set_poem - set_new_poem\n",
    "print(\"Words unique to the first poem:\", unique_to_first)\n",
    "\n",
    "# We're now doing the same for the second poem\n",
    "unique_to_second = set_new_poem - set_poem\n",
    "print(\"Words unique to the second poem:\", unique_to_second)\n",
    "\n",
    "# Finally, we want to find the words that are common to both poems\n",
    "unique_to_both = set_poem & set_new_poem\n",
    "print(\"Words common to both poems:\", unique_to_both)\n"
   ]
  },
  {
   "cell_type": "markdown",
   "metadata": {},
   "source": [
    "## Exercise 4: Dictionaries"
   ]
  },
  {
   "cell_type": "markdown",
   "metadata": {},
   "source": [
    "Consider the following dictionary of students with their scores in different subjects. One of the students, Bob, has complained about his score in Philosophy and, after reviewing it, the teacher has decided to update his score to 100. Write a Python program that updates Bob's score in Philosophy to 100 in the dictionary."
   ]
  },
  {
   "cell_type": "markdown",
   "metadata": {},
   "source": [
    "*Recommended External Resources: [Python Dictionary Examples and Methods](https://www.w3schools.com/python/python_dictionaries.asp)*\n"
   ]
  },
  {
   "cell_type": "code",
   "execution_count": 4,
   "metadata": {},
   "outputs": [],
   "source": [
    "grades = {'Alice': {'Physics': 75, 'Math': 85, 'Chemistry': 60, 'Philosophy': 90}, 'Bob': {'Physics': 75, 'Math': 85, 'Chemistry': 60, 'Philosophy': 90}}"
   ]
  },
  {
   "cell_type": "code",
   "execution_count": 5,
   "metadata": {},
   "outputs": [
    {
     "name": "stdout",
     "output_type": "stream",
     "text": [
      "{'Physics': 75, 'Math': 85, 'Chemistry': 60, 'Philosophy': 100}\n"
     ]
    }
   ],
   "source": [
    "# Your code here\n",
    "\n",
    "# We want to change Bob's Philosophy grade to 100\n",
    "grades['Bob']['Philosophy'] = 100\n",
    "\n",
    "# Finally, we print the updated grades of Bob's dictionary to see the changes\n",
    "print(grades['Bob'])\n"
   ]
  },
  {
   "cell_type": "markdown",
   "metadata": {},
   "source": [
    "## Bonus"
   ]
  },
  {
   "cell_type": "markdown",
   "metadata": {},
   "source": [
    "1. Below are the two lists. Write a Python program to convert them into a dictionary in a way that item from list1 is the key and item from list2 is the value."
   ]
  },
  {
   "cell_type": "markdown",
   "metadata": {},
   "source": [
    "*Hint: Use the zip() function. This function takes two or more iterables (like list, dict, string), aggregates them in a tuple, and returns it. Afterwards, you can use a function that turns a tuple into a dictionary.*"
   ]
  },
  {
   "cell_type": "markdown",
   "metadata": {},
   "source": [
    "*Recommended External Resources: [Python Zip Function](https://www.w3schools.com/python/ref_func_zip.asp)*\n"
   ]
  },
  {
   "cell_type": "code",
   "execution_count": 6,
   "metadata": {},
   "outputs": [
    {
     "name": "stdout",
     "output_type": "stream",
     "text": [
      "{'Physics': 75, 'Math': 85, 'Chemistry': 60, 'Philosophy': 90}\n"
     ]
    }
   ],
   "source": [
    "keys = ['Physics', 'Math', 'Chemistry', 'Philosophy']\n",
    "values = [75, 85, 60,90]\n",
    "\n",
    "# Your code here\n",
    "\n",
    "new_dict = dict(zip(keys, values))\n",
    "print(new_dict)"
   ]
  },
  {
   "cell_type": "markdown",
   "metadata": {},
   "source": [
    "2. Get the subject with the minimum score from the previous dictionary."
   ]
  },
  {
   "cell_type": "markdown",
   "metadata": {},
   "source": [
    "*Hint: Use the built-in function min(). Read about the parameter key.*"
   ]
  },
  {
   "cell_type": "markdown",
   "metadata": {},
   "source": [
    "\n",
    "*Recommended External Resources:*\n",
    "- *[Python Min Function Official Documentation](https://docs.python.org/3.8/library/functions.html#min)*\n",
    "- *[How to use key function in max and min in Python](https://medium.com/analytics-vidhya/how-to-use-key-function-in-max-and-min-in-python-1fdbd661c59c)*"
   ]
  },
  {
   "cell_type": "code",
   "execution_count": 7,
   "metadata": {},
   "outputs": [
    {
     "name": "stdout",
     "output_type": "stream",
     "text": [
      "The minimum score is 60 in Chemistry\n"
     ]
    }
   ],
   "source": [
    "# Your code here\n",
    "\n",
    "print(f\"The minimum score is {min(values)} in {keys[values.index(min(values))]}\")"
   ]
  }
 ],
 "metadata": {
  "kernelspec": {
   "display_name": "Python 3",
   "language": "python",
   "name": "python3"
  },
  "language_info": {
   "codemirror_mode": {
    "name": "ipython",
    "version": 3
   },
   "file_extension": ".py",
   "mimetype": "text/x-python",
   "name": "python",
   "nbconvert_exporter": "python",
   "pygments_lexer": "ipython3",
   "version": "3.9.6"
  }
 },
 "nbformat": 4,
 "nbformat_minor": 4
}
